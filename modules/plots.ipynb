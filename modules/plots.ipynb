{
 "cells": [
  {
   "cell_type": "code",
   "execution_count": null,
   "metadata": {
    "ExecuteTime": {
     "end_time": "2025-01-07T12:30:41.664295Z",
     "start_time": "2025-01-07T12:30:39.763746Z"
    }
   },
   "outputs": [],
   "source": [
    "%load_ext autoreload\n",
    "%autoreload 2\n",
    "\n",
    "import os\n",
    "import pandas as pd\n",
    "import matplotlib.pyplot as plt\n",
    "import numpy as np\n",
    "import seaborn as sns\n",
    "from modules.plots import normalize_column_of_nparrays, get_nice_name, configure_default_plot_style, set_default_figsize\n",
    "from pathlib import Path\n",
    "from modules.datasetify import create_dataset"
   ]
  },
  {
   "cell_type": "code",
   "execution_count": null,
   "metadata": {
    "ExecuteTime": {
     "end_time": "2025-01-07T12:30:41.664295Z",
     "start_time": "2025-01-07T12:30:39.763746Z"
    }
   },
   "outputs": [],
   "source": [
    "# Configure Plots\n",
    "configure_default_plot_style()\n",
    "set_default_figsize(\"single\", ratio=1.0, factor=1)"
   ]
  },
  {
   "cell_type": "code",
   "execution_count": null,
   "metadata": {
    "ExecuteTime": {
     "end_time": "2025-01-07T12:30:41.664295Z",
     "start_time": "2025-01-07T12:30:39.763746Z"
    }
   },
   "outputs": [],
   "source": [
    "# Arguments\n",
    "experiment_id = \"full\"\n",
    "distance_complexity_parquet = f\"../output/02/{experiment_id}/combined_dist_compl.parquet\"\n",
    "nice_name_mapping = {\n",
    "    \"raise1k\": \"RAISE-1k\",\n",
    "    \"midjourney-v5\": \"SB-MJ5\",\n",
    "    \"stable-diffusion-1-3\": \"SB-SD1.3\",\n",
    "    \"stable-diffusion-1-4\": \"SB-SD1.4\",\n",
    "    \"stable-diffusion-2\": \"SB-SD2\",\n",
    "    \"stable-diffusion-xl\": \"SB-SDXL\",\n",
    "    \"lpips_vgg_2\": \"LPIPS$_2$\"\n",
    "}\n",
    "\n",
    "# Output\n",
    "output_dir = Path(f\"../output/plots/{experiment_id}/\")"
   ]
  },
  {
   "cell_type": "code",
   "execution_count": null,
   "metadata": {
    "ExecuteTime": {
     "end_time": "2025-01-06T23:28:35.935536Z",
     "start_time": "2025-01-06T23:28:35.908018Z"
    }
   },
   "outputs": [],
   "source": [
    "def plot_ds_comp_distr_per_comp_metric(input_parquet, output_dir, nice_name_mapping, bins=30, y_scale_log=False):\n",
    "    plot_output_dir = output_dir / \"plot_ds_comp_distr_per_comp_metric\"\n",
    "    plot_output_dir.mkdir(exist_ok=True, parents=True)\n",
    "    \n",
    "    df = pd.read_parquet(input_parquet)\n",
    "    \n",
    "    df = df.query(\"repo_id == 'max'\").copy()\n",
    "    \n",
    "    df[\"dir\"] = df[\"dir\"].map(\n",
    "        lambda x: get_nice_name(x, nice_name_mapping)\n",
    "    )\n",
    "    \n",
    "    for cm, cm_group in df.groupby(\"complexity_metric\", observed=True):\n",
    "        normalized_complexity_df = normalize_column_of_nparrays(cm_group, \"complexity\")\n",
    "        \n",
    "        for ds, ds_group in normalized_complexity_df.groupby(\"dir\", observed=True):\n",
    "            sns.histplot(\n",
    "                x=np.stack(ds_group.complexity).flatten(),\n",
    "                label=ds,\n",
    "                bins=bins,\n",
    "                log_scale=(False, y_scale_log),\n",
    "                element=\"poly\",\n",
    "                fill=False\n",
    "            )\n",
    "\n",
    "        plt.title(\"Dataset Complexity Distribution\")\n",
    "        plt.xlabel(f\"{cm.upper()} Complexity ({bins} Bins)\")\n",
    "        plt.ylabel(f\"Count{' (log)' if y_scale_log else ''}\")\n",
    "        plt.legend(title=\"Datasets\")\n",
    "        plt.grid(alpha=0.5)\n",
    "        plt.savefig(plot_output_dir / f\"plot_ds_comp_distr_bins_{bins}_y_{'log' if y_scale_log else 'lin'}_{cm}.pdf\")\n",
    "        plt.show()\n",
    "        plt.close()"
   ]
  },
  {
   "cell_type": "code",
   "execution_count": null,
   "metadata": {
    "ExecuteTime": {
     "end_time": "2025-01-06T23:28:41.584818Z",
     "start_time": "2025-01-06T23:28:36.909001Z"
    }
   },
   "outputs": [],
   "source": [
    "plot_ds_comp_distr_per_comp_metric(\n",
    "    input_parquet=distance_complexity_parquet, \n",
    "    output_dir=output_dir, \n",
    "    nice_name_mapping=nice_name_mapping, \n",
    "    bins=30,\n",
    "    y_scale_log=False\n",
    ")\n",
    "\n",
    "plot_ds_comp_distr_per_comp_metric(\n",
    "    input_parquet=distance_complexity_parquet, \n",
    "    output_dir=output_dir, \n",
    "    nice_name_mapping=nice_name_mapping, \n",
    "    bins=30,\n",
    "    y_scale_log=True\n",
    ")"
   ]
  },
  {
   "cell_type": "code",
   "execution_count": null,
   "metadata": {},
   "outputs": [],
   "source": [
    "def plot_ds_comp_vs_dist_per_comp_metric(input_parquet, output_dir, nice_name_mapping, bins=100):\n",
    "    df = pd.read_parquet(input_parquet)\n",
    "    \n",
    "    df = df.query(\"repo_id == 'max'\").copy()\n",
    "    \n",
    "    df[[\"dir\", \"distance_metric\"]] = df[[\"dir\", \"distance_metric\"]].map(\n",
    "        lambda x: get_nice_name(x, nice_name_mapping)\n",
    "    )\n",
    "\n",
    "    max_distance = np.stack(df.distance).flatten().max()\n",
    "    \n",
    "    for cm, cm_group in df.groupby(\"complexity_metric\", observed=True):\n",
    "        normalized_complexity_df = normalize_column_of_nparrays(cm_group, \"complexity\")\n",
    "        \n",
    "        for ds, ds_group in normalized_complexity_df.groupby(\"dir\", observed=True):\n",
    "            sns.histplot(\n",
    "                x=np.stack(ds_group.complexity).flatten(),\n",
    "                y=np.stack(ds_group.distance).flatten(),\n",
    "                bins=bins,\n",
    "                binrange=((0, 1), (0, max_distance)),\n",
    "                stat=\"density\",\n",
    "                vmax=\"1000\"\n",
    "            )\n",
    "\n",
    "            plt.title(f\"Complexity vs. Distance of {ds}\")\n",
    "            plt.xlabel(f\"{cm.upper()} Complexity ({bins} Bins)\")\n",
    "            plt.ylabel(f\"{ds_group.iloc[0].distance_metric.upper()} Distance\")\n",
    "            plt.grid(alpha=0.5)\n",
    "            plt.show()\n",
    "            plt.close()"
   ]
  },
  {
   "cell_type": "code",
   "execution_count": null,
   "metadata": {},
   "outputs": [],
   "source": [
    "plot_ds_comp_vs_dist_per_comp_metric(distance_complexity_parquet, output_dir, nice_name_mapping, bins=100)"
   ]
  },
  {
   "cell_type": "code",
   "execution_count": null,
   "metadata": {},
   "outputs": [],
   "source": []
  }
 ],
 "metadata": {
  "kernelspec": {
   "display_name": "Python 3 (ipykernel)",
   "language": "python",
   "name": "python3"
  },
  "language_info": {
   "codemirror_mode": {
    "name": "ipython",
    "version": 3
   },
   "file_extension": ".py",
   "mimetype": "text/x-python",
   "name": "python",
   "nbconvert_exporter": "python",
   "pygments_lexer": "ipython3",
   "version": "3.10.15"
  }
 },
 "nbformat": 4,
 "nbformat_minor": 4
}
